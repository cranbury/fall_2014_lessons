{
 "metadata": {
  "name": "",
  "signature": "sha256:dfc052766d0df7b724bacd87c34b3294c92c4b0da2cbfc12df26f70d7f673e16"
 },
 "nbformat": 3,
 "nbformat_minor": 0,
 "worksheets": [
  {
   "cells": [
    {
     "cell_type": "heading",
     "level": 1,
     "metadata": {},
     "source": [
      "Running Code in the IPython Notebook"
     ]
    },
    {
     "cell_type": "markdown",
     "metadata": {},
     "source": [
      "First and foremost, the IPython Notebook is an interactive environment for writing and running Python code."
     ]
    },
    {
     "cell_type": "markdown",
     "metadata": {},
     "source": [
      "# Motivation\n",
      "\n",
      "![](http://note.io/1k1s0gQ)"
     ]
    },
    {
     "cell_type": "markdown",
     "metadata": {},
     "source": [
      "## First, let's take a look at the iPython shell that the Notebook sits on top of \n",
      "\n",
      "## Pull updates from the lessons repo into your data science toolbox environment:\n",
      "```\n",
      "vagrant@data-science-toolbox:~$cd notebooks/fall_2014_lessons\n",
      "vagrant@data-science-toolbox:~/notebooks/fall_2014_lessons$git pull origin master\n",
      "```\n",
      "\n",
      "## Start up the ipython notebook server!\n",
      "```\n",
      "vagrant@data-science-toolbox:~/notebooks/fall_2014_lessons$sudo ipython notebook profile=dst\n",
      "```"
     ]
    },
    {
     "cell_type": "markdown",
     "metadata": {},
     "source": [
      "IPython -- An enhanced Interactive Python\n",
      "=========================================\n",
      "\n",
      "IPython offers a combination of convenient shell features, special commands\n",
      "and a history mechanism for both input (command history) and output (results\n",
      "caching, similar to Mathematica). It is intended to be a fully compatible\n",
      "replacement for the standard Python interpreter, while offering vastly\n",
      "improved functionality and flexibility.\n"
     ]
    },
    {
     "cell_type": "markdown",
     "metadata": {},
     "source": [
      "Magic Commands\n",
      "\n",
      "    %magic"
     ]
    },
    {
     "cell_type": "markdown",
     "metadata": {},
     "source": [
      "TAB completions"
     ]
    },
    {
     "cell_type": "markdown",
     "metadata": {},
     "source": [
      "Dynamic Object Information\n",
      "\n",
      "    ?word\n",
      "    "
     ]
    },
    {
     "cell_type": "markdown",
     "metadata": {},
     "source": [
      "Input and Output caching"
     ]
    },
    {
     "cell_type": "markdown",
     "metadata": {},
     "source": [
      "### To run:\n",
      "\n",
      "    ipython\n",
      "    \n",
      "    ?\n",
      "    \n",
      "_review the help later if interested_"
     ]
    },
    {
     "cell_type": "markdown",
     "metadata": {},
     "source": [
      "# IPython Notebook \n",
      "* Full manual: http://ipython.org/notebook.html\n",
      "\n",
      "Starting the notebook server\n",
      "Start running a notebook server from the command line using the following command:\n",
      "\n",
      "    ipython notebook\n",
      "\n",
      "This will print some information about the notebook server in your console, and open a web browser to the URL of the web application (by default, http://127.0.0.1:8888)."
     ]
    },
    {
     "cell_type": "heading",
     "level": 2,
     "metadata": {},
     "source": [
      "Code cells allow you to enter and run Python code"
     ]
    },
    {
     "cell_type": "markdown",
     "metadata": {},
     "source": [
      "Run a code cell using `Shift-Enter` or pressing the \"Play\" button in the toolbar above:"
     ]
    },
    {
     "cell_type": "code",
     "collapsed": false,
     "input": [
      "a = 11"
     ],
     "language": "python",
     "metadata": {},
     "outputs": [],
     "prompt_number": 4
    },
    {
     "cell_type": "code",
     "collapsed": false,
     "input": [
      "print(a)"
     ],
     "language": "python",
     "metadata": {},
     "outputs": [
      {
       "output_type": "stream",
       "stream": "stdout",
       "text": [
        "11\n"
       ]
      }
     ],
     "prompt_number": 5
    },
    {
     "cell_type": "markdown",
     "metadata": {},
     "source": [
      "Code is run in a separate process called the IPython Kernel.  The Kernel can be interrupted or restarted.  Try running the following cell and then hit the \"Stop\" button in the toolbar above."
     ]
    },
    {
     "cell_type": "heading",
     "level": 2,
     "metadata": {},
     "source": [
      "Managing the IPython Kernel"
     ]
    },
    {
     "cell_type": "code",
     "collapsed": false,
     "input": [
      "import time\n",
      "time.sleep(10)\n",
      "print('OK, I\\'m up!')"
     ],
     "language": "python",
     "metadata": {},
     "outputs": [
      {
       "output_type": "stream",
       "stream": "stdout",
       "text": [
        "OK, I'm up!\n"
       ]
      }
     ]
    },
    {
     "cell_type": "markdown",
     "metadata": {},
     "source": [
      "If the Kernel dies you will be prompted to restart it. Here we call the low-level system libc.time routine with the wrong argument via\n",
      "ctypes to segfault the Python interpreter:"
     ]
    },
    {
     "cell_type": "code",
     "collapsed": false,
     "input": [
      "import sys\n",
      "from ctypes import CDLL\n",
      "# This will crash a Linux or Mac system; equivalent calls can be made on Windows\n",
      "dll = 'dylib' if sys.platform == 'darwin' else 'so.6'\n",
      "libc = CDLL(\"libc.%s\" % dll) \n",
      "libc.time(-1)  # BOOM!!"
     ],
     "language": "python",
     "metadata": {},
     "outputs": []
    },
    {
     "cell_type": "heading",
     "level": 2,
     "metadata": {},
     "source": [
      "All of the goodness of IPython works"
     ]
    },
    {
     "cell_type": "markdown",
     "metadata": {},
     "source": [
      "Here are two system aliases:"
     ]
    },
    {
     "cell_type": "code",
     "collapsed": false,
     "input": [
      "pwd"
     ],
     "language": "python",
     "metadata": {},
     "outputs": [
      {
       "metadata": {},
       "output_type": "pyout",
       "prompt_number": 1,
       "text": [
        "u'/home/vagrant/notebooks/fall_2014_lessons/02_intro_to_ML'"
       ]
      }
     ],
     "prompt_number": 1
    },
    {
     "cell_type": "code",
     "collapsed": false,
     "input": [
      "ls"
     ],
     "language": "python",
     "metadata": {},
     "outputs": [
      {
       "output_type": "stream",
       "stream": "stdout",
       "text": [
        "advanced_lab.md  \u001b[0m\u001b[01;34mdata\u001b[0m/  ipython_intro.ipynb  numpy_and_pandas.ipynb  numpy_scipy.ipynb  pandas_lab.ipynb  python_lab.ipynb  README.md  working_with_data.ipynb\r\n"
       ]
      }
     ],
     "prompt_number": 2
    },
    {
     "cell_type": "markdown",
     "metadata": {},
     "source": [
      "Any command line program can be run using `!` with string interpolation from Python variables:"
     ]
    },
    {
     "cell_type": "code",
     "collapsed": false,
     "input": [
      "message = 'The IPython notebook is great!'\n",
      "# note: the echo command does not run on Windows, it's a unix command.\n",
      "!echo $message"
     ],
     "language": "python",
     "metadata": {},
     "outputs": [
      {
       "output_type": "stream",
       "stream": "stdout",
       "text": [
        "The IPython notebook is great!\r\n"
       ]
      }
     ],
     "prompt_number": 3
    },
    {
     "cell_type": "markdown",
     "metadata": {},
     "source": [
      "Tab completion works:"
     ]
    },
    {
     "cell_type": "markdown",
     "metadata": {},
     "source": [
      "Tab completion after `(` brings up a tooltip with the docstring:"
     ]
    },
    {
     "cell_type": "code",
     "collapsed": false,
     "input": [
      "import numpy\n",
      "numpy.random.bytes"
     ],
     "language": "python",
     "metadata": {},
     "outputs": [
      {
       "metadata": {},
       "output_type": "pyout",
       "prompt_number": 5,
       "text": [
        "<function bytes>"
       ]
      }
     ],
     "prompt_number": 5
    },
    {
     "cell_type": "code",
     "collapsed": false,
     "input": [
      "numpy.random.rand(3)"
     ],
     "language": "python",
     "metadata": {},
     "outputs": [
      {
       "metadata": {},
       "output_type": "pyout",
       "prompt_number": 8,
       "text": [
        "array([ 0.74571119,  0.23644013,  0.75479855])"
       ]
      }
     ],
     "prompt_number": 8
    },
    {
     "cell_type": "markdown",
     "metadata": {},
     "source": [
      "Adding `?` opens the docstring in the pager below:"
     ]
    },
    {
     "cell_type": "code",
     "collapsed": false,
     "input": [
      "magic?"
     ],
     "language": "python",
     "metadata": {},
     "outputs": [],
     "prompt_number": 9
    },
    {
     "cell_type": "heading",
     "level": 2,
     "metadata": {},
     "source": [
      "Working with external code"
     ]
    },
    {
     "cell_type": "markdown",
     "metadata": {},
     "source": [
      "There are a number of ways of getting external code into code cells."
     ]
    },
    {
     "cell_type": "markdown",
     "metadata": {},
     "source": [
      "Pasting code with `>>>` prompts works as expected:"
     ]
    },
    {
     "cell_type": "code",
     "collapsed": false,
     "input": [
      ">>> the_world_is_flat = 2\n",
      ">>> if the_world_is_flat:\n",
      "...     print(\"Be careful not to fall off!\")"
     ],
     "language": "python",
     "metadata": {},
     "outputs": [
      {
       "output_type": "stream",
       "stream": "stdout",
       "text": [
        "Be careful not to fall off!\n"
       ]
      }
     ],
     "prompt_number": 17
    },
    {
     "cell_type": "markdown",
     "metadata": {},
     "source": [
      "The `%load` magic lets you load code from URLs or local files:"
     ]
    },
    {
     "cell_type": "code",
     "collapsed": false,
     "input": [
      "%matplotlib inline"
     ],
     "language": "python",
     "metadata": {},
     "outputs": [],
     "prompt_number": 18
    },
    {
     "cell_type": "code",
     "collapsed": false,
     "input": [
      "%load http://matplotlib.sourceforge.net/mpl_examples/pylab_examples/integral_demo.py"
     ],
     "language": "python",
     "metadata": {},
     "outputs": [],
     "prompt_number": 19
    },
    {
     "cell_type": "code",
     "collapsed": false,
     "input": [
      "#!/usr/bin/env python\n",
      "\n",
      "# implement the example graphs/integral from pyx\n",
      "from pylab import *\n",
      "from matplotlib.patches import Polygon\n",
      "\n",
      "def func(x):\n",
      "    return (x-3)*(x-5)*(x-7)+85\n",
      "\n",
      "ax = subplot(111)\n",
      "\n",
      "a, b = 2, 9 # integral area\n",
      "x = arange(0, 10, 0.01)\n",
      "y = func(x)\n",
      "plot(x, y, linewidth=1)\n",
      "\n",
      "# make the shaded region\n",
      "ix = arange(a, b, 0.01)\n",
      "iy = func(ix)\n",
      "verts = [(a,0)] + list(zip(ix,iy)) + [(b,0)]\n",
      "poly = Polygon(verts, facecolor='0.8', edgecolor='k')\n",
      "ax.add_patch(poly)\n",
      "\n",
      "text(0.5 * (a + b), 30,\n",
      "     r\"$\\int_a^b f(x)\\mathrm{d}x$\", horizontalalignment='center',\n",
      "     fontsize=20)\n",
      "\n",
      "axis([0,10, 0, 180])\n",
      "figtext(0.9, 0.05, 'x')\n",
      "figtext(0.1, 0.9, 'y')\n",
      "ax.set_xticks((a,b))\n",
      "ax.set_xticklabels(('a','b'))\n",
      "ax.set_yticks([])\n",
      "show()\n"
     ],
     "language": "python",
     "metadata": {},
     "outputs": []
    },
    {
     "cell_type": "code",
     "collapsed": false,
     "input": [
      "5+4"
     ],
     "language": "python",
     "metadata": {},
     "outputs": [
      {
       "metadata": {},
       "output_type": "pyout",
       "prompt_number": 20,
       "text": [
        "9"
       ]
      }
     ],
     "prompt_number": 20
    },
    {
     "cell_type": "code",
     "collapsed": false,
     "input": [],
     "language": "python",
     "metadata": {},
     "outputs": []
    }
   ],
   "metadata": {}
  }
 ]
}