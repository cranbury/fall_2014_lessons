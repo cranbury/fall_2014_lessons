{
 "metadata": {
  "name": "",
  "signature": "sha256:3f2ea4f307438d36201488bef2457618d35717f4c4f0cfefaed44a367f726f7d"
 },
 "nbformat": 3,
 "nbformat_minor": 0,
 "worksheets": [
  {
   "cells": [
    {
     "cell_type": "code",
     "collapsed": false,
     "input": [
      "import pandas as pd\n",
      "import numpy as np\n",
      "from matplotlib import pyplot as plt\n",
      "from matplotlib.colors import ListedColormap\n",
      "from sklearn.linear_model import LinearRegression\n",
      "from sklearn.linear_model import LogisticRegression\n",
      "from sklearn.cross_validation import train_test_split\n",
      "from sklearn.metrics import confusion_matrix as sk_confusion_matrix\n",
      "from sklearn.metrics import roc_curve, auc"
     ],
     "language": "python",
     "metadata": {},
     "outputs": [],
     "prompt_number": 1
    },
    {
     "cell_type": "code",
     "collapsed": false,
     "input": [
      "df = pd.read_csv('/home/vagrant/notebooks/fall_2014_lessons/datasets/student_loan.csv', index_col=0)"
     ],
     "language": "python",
     "metadata": {},
     "outputs": [],
     "prompt_number": 2
    },
    {
     "cell_type": "code",
     "collapsed": false,
     "input": [
      "# downsample negative cases -- there are many more negatives than positives\n",
      "indices = np.where(df.default == 'No')[0]\n",
      "rng = np.random.RandomState(13)\n",
      "rng.shuffle(indices)\n",
      "n_pos = (df.default == 'Yes').sum()\n",
      "df = df.drop(df.index[indices[n_pos:]])\n",
      "\n",
      "df.head()"
     ],
     "language": "python",
     "metadata": {},
     "outputs": [
      {
       "html": [
        "<div style=\"max-height:1000px;max-width:1500px;overflow:auto;\">\n",
        "<table border=\"1\" class=\"dataframe\">\n",
        "  <thead>\n",
        "    <tr style=\"text-align: right;\">\n",
        "      <th></th>\n",
        "      <th>default</th>\n",
        "      <th>student</th>\n",
        "      <th>balance</th>\n",
        "      <th>income</th>\n",
        "    </tr>\n",
        "  </thead>\n",
        "  <tbody>\n",
        "    <tr>\n",
        "      <th>20</th>\n",
        "      <td> No</td>\n",
        "      <td> No</td>\n",
        "      <td> 1095.072735</td>\n",
        "      <td> 26464.631389</td>\n",
        "    </tr>\n",
        "    <tr>\n",
        "      <th>38</th>\n",
        "      <td> No</td>\n",
        "      <td> No</td>\n",
        "      <td>  351.453472</td>\n",
        "      <td> 35087.488648</td>\n",
        "    </tr>\n",
        "    <tr>\n",
        "      <th>61</th>\n",
        "      <td> No</td>\n",
        "      <td> No</td>\n",
        "      <td>  766.234379</td>\n",
        "      <td> 46478.294257</td>\n",
        "    </tr>\n",
        "    <tr>\n",
        "      <th>78</th>\n",
        "      <td> No</td>\n",
        "      <td> No</td>\n",
        "      <td>  728.373251</td>\n",
        "      <td> 45131.718265</td>\n",
        "    </tr>\n",
        "    <tr>\n",
        "      <th>79</th>\n",
        "      <td> No</td>\n",
        "      <td> No</td>\n",
        "      <td>   76.991291</td>\n",
        "      <td> 28392.093412</td>\n",
        "    </tr>\n",
        "  </tbody>\n",
        "</table>\n",
        "</div>"
       ],
       "metadata": {},
       "output_type": "pyout",
       "prompt_number": 6,
       "text": [
        "   default student      balance        income\n",
        "20      No      No  1095.072735  26464.631389\n",
        "38      No      No   351.453472  35087.488648\n",
        "61      No      No   766.234379  46478.294257\n",
        "78      No      No   728.373251  45131.718265\n",
        "79      No      No    76.991291  28392.093412"
       ]
      }
     ],
     "prompt_number": 6
    },
    {
     "cell_type": "code",
     "collapsed": false,
     "input": [
      "# setup figure\n",
      "plt.figure(figsize=(10, 8))\n",
      "\n",
      "# scatter plot of balance (x) and income (y)\n",
      "ax1 = plt.subplot(221)\n",
      "cm_bright = ListedColormap(['#FF0000', '#0000FF'])\n",
      "ax1.scatter(df.balance, df.income, c=(df.default == 'Yes'), cmap=cm_bright)        \n",
      "ax1.set_xlim((df.balance.min(), df.balance.max()))\n",
      "ax1.set_ylim((df.income.min(), df.income.max()))\n",
      "ax1.set_xlabel('balance')\n",
      "ax1.set_ylabel('income')\n",
      "ax1.legend(loc='upper right')\n",
      "\n",
      "# box plots for income\n",
      "ax2 = plt.subplot(222)\n",
      "ax2.boxplot([df.income[df.default == 'Yes'], df.income[df.default == 'No']])\n",
      "ax2.set_ylim((df.income.min(), df.income.max()))\n",
      "ax2.set_xticklabels(('Yes', 'No'))\n",
      "ax2.set_ylabel('income')\n",
      "\n",
      "# box plots for balance\n",
      "ax3 = plt.subplot(223)\n",
      "ax3.boxplot([df.balance[df.default == 'Yes'], df.balance[df.default == 'No']], vert=0)\n",
      "ax3.set_xlim((df.balance.min(), df.balance.max()))\n",
      "ax3.set_yticklabels(('Yes', 'No'))\n",
      "ax3.set_xlabel('balance')\n",
      "plt.tight_layout()"
     ],
     "language": "python",
     "metadata": {},
     "outputs": [
      {
       "metadata": {},
       "output_type": "display_data",
       "png": "[encoded data removed]",
       "text": [
        "<matplotlib.figure.Figure at 0x7f0438b09a90>"
       ]
      }
     ],
     "prompt_number": 7
    },
    {
     "cell_type": "code",
     "collapsed": false,
     "input": [
      "# get feature/predictor matrix as numpy array\n",
      "X = df[['balance', 'income']].values\n",
      "\n",
      "# encode class labels\n",
      "classes, y = np.unique(df.default.values, return_inverse=True)\n",
      "y = (y * 2) - 1  # map {0, 1} to {-1, 1}\n",
      "\n",
      "\n",
      "# create 80%-20% train-test split\n",
      "X_train, X_test, y_train, y_test = train_test_split(X, y, test_size=0.2)\n",
      "\n"
     ],
     "language": "python",
     "metadata": {},
     "outputs": [],
     "prompt_number": 8
    },
    {
     "cell_type": "code",
     "collapsed": false,
     "input": [
      "# Create and Run classifier\n",
      "\n",
      "\n",
      "i = 1\n",
      "\n",
      "for name, clf in zip(X, classifiers):\n",
      "        ax = plt.subplot(len(df), len(classifiers) + 1, i)\n",
      "        clf.fit(X_train, y_train)\n",
      "        score = clf.score(X_test, y_test)\n",
      "\n",
      "        # Plot the decision boundary. For that, we will assign a color to each\n",
      "        # point in the mesh [x_min, m_max]x[y_min, y_max].\n",
      "        if hasattr(clf, \"decision_function\"):\n",
      "            Z = clf.decision_function(np.c_[xx.ravel(), yy.ravel()])\n",
      "        else:\n",
      "            Z = clf.predict_proba(np.c_[xx.ravel(), yy.ravel()])[:, 1]\n",
      "\n",
      "        # Put the result into a color plot\n",
      "        Z = Z.reshape(xx.shape)\n",
      "        ax.contourf(xx, yy, Z, cmap=cm, alpha=.8)\n",
      "\n",
      "        # Plot also the training points\n",
      "        ax.scatter(X_train[:, 0], X_train[:, 1], c=y_train, cmap=cm_bright)\n",
      "        # and testing points\n",
      "        ax.scatter(X_test[:, 0], X_test[:, 1], c=y_test, cmap=cm_bright,\n",
      "                   alpha=0.6)\n",
      "\n",
      "        ax.set_xlim(xx.min(), xx.max())\n",
      "        ax.set_ylim(yy.min(), yy.max())\n",
      "        ax.set_xticks(())\n",
      "        ax.set_yticks(())\n",
      "        ax.set_title(name)\n",
      "        ax.text(xx.max() - .3, yy.min() + .3, ('%.2f' % score).lstrip('0'),\n",
      "                size=15, horizontalalignment='right')\n",
      "        i += 1\n",
      "\n",
      "figure.subplots_adjust(left=.02, right=.98)\n",
      "plt.show()\n",
      "\n",
      "\n",
      "\n",
      "# Compute ROC curve and area the curve\n"
     ],
     "language": "python",
     "metadata": {},
     "outputs": [
      {
       "ename": "NameError",
       "evalue": "name 'xx' is not defined",
       "output_type": "pyerr",
       "traceback": [
        "\u001b[1;31m---------------------------------------------------------------------------\u001b[0m\n\u001b[1;31mNameError\u001b[0m                                 Traceback (most recent call last)",
        "\u001b[1;32m<ipython-input-15-28affc2fa90e>\u001b[0m in \u001b[0;36m<module>\u001b[1;34m()\u001b[0m\n\u001b[0;32m     14\u001b[0m             \u001b[0mZ\u001b[0m \u001b[1;33m=\u001b[0m \u001b[0mclf\u001b[0m\u001b[1;33m.\u001b[0m\u001b[0mdecision_function\u001b[0m\u001b[1;33m(\u001b[0m\u001b[0mnp\u001b[0m\u001b[1;33m.\u001b[0m\u001b[0mc_\u001b[0m\u001b[1;33m[\u001b[0m\u001b[0mxx\u001b[0m\u001b[1;33m.\u001b[0m\u001b[0mravel\u001b[0m\u001b[1;33m(\u001b[0m\u001b[1;33m)\u001b[0m\u001b[1;33m,\u001b[0m \u001b[0myy\u001b[0m\u001b[1;33m.\u001b[0m\u001b[0mravel\u001b[0m\u001b[1;33m(\u001b[0m\u001b[1;33m)\u001b[0m\u001b[1;33m]\u001b[0m\u001b[1;33m)\u001b[0m\u001b[1;33m\u001b[0m\u001b[0m\n\u001b[0;32m     15\u001b[0m         \u001b[1;32melse\u001b[0m\u001b[1;33m:\u001b[0m\u001b[1;33m\u001b[0m\u001b[0m\n\u001b[1;32m---> 16\u001b[1;33m             \u001b[0mZ\u001b[0m \u001b[1;33m=\u001b[0m \u001b[0mclf\u001b[0m\u001b[1;33m.\u001b[0m\u001b[0mpredict_proba\u001b[0m\u001b[1;33m(\u001b[0m\u001b[0mnp\u001b[0m\u001b[1;33m.\u001b[0m\u001b[0mc_\u001b[0m\u001b[1;33m[\u001b[0m\u001b[0mxx\u001b[0m\u001b[1;33m.\u001b[0m\u001b[0mravel\u001b[0m\u001b[1;33m(\u001b[0m\u001b[1;33m)\u001b[0m\u001b[1;33m,\u001b[0m \u001b[0myy\u001b[0m\u001b[1;33m.\u001b[0m\u001b[0mravel\u001b[0m\u001b[1;33m(\u001b[0m\u001b[1;33m)\u001b[0m\u001b[1;33m]\u001b[0m\u001b[1;33m)\u001b[0m\u001b[1;33m[\u001b[0m\u001b[1;33m:\u001b[0m\u001b[1;33m,\u001b[0m \u001b[1;36m1\u001b[0m\u001b[1;33m]\u001b[0m\u001b[1;33m\u001b[0m\u001b[0m\n\u001b[0m\u001b[0;32m     17\u001b[0m \u001b[1;33m\u001b[0m\u001b[0m\n\u001b[0;32m     18\u001b[0m         \u001b[1;31m# Put the result into a color plot\u001b[0m\u001b[1;33m\u001b[0m\u001b[1;33m\u001b[0m\u001b[0m\n",
        "\u001b[1;31mNameError\u001b[0m: name 'xx' is not defined"
       ]
      },
      {
       "metadata": {},
       "output_type": "display_data",
       "png": "[encoded data removed]",
       "text": [
        "<matplotlib.figure.Figure at 0x7f04390cd450>"
       ]
      }
     ],
     "prompt_number": 15
    },
    {
     "cell_type": "code",
     "collapsed": false,
     "input": [
      "# Plot ROC curve\n"
     ],
     "language": "python",
     "metadata": {},
     "outputs": [],
     "prompt_number": 19
    },
    {
     "cell_type": "code",
     "collapsed": false,
     "input": [
      "import numpy as np\n",
      "import matplotlib.pyplot as plt\n",
      "from matplotlib.colors import ListedColormap\n",
      "from sklearn.cross_validation import train_test_split\n",
      "from sklearn.preprocessing import StandardScaler\n",
      "from sklearn.datasets import make_moons, make_circles, make_classification\n",
      "from sklearn.neighbors import KNeighborsClassifier\n",
      "from sklearn.svm import SVC\n",
      "from sklearn.tree import DecisionTreeClassifier\n",
      "from sklearn.ensemble import RandomForestClassifier, AdaBoostClassifier\n",
      "from sklearn.naive_bayes import GaussianNB\n",
      "from sklearn.lda import LDA\n",
      "from sklearn.qda import QDA\n",
      "\n",
      "\n",
      "classifiers = [\n",
      "    KNeighborsClassifier(3),\n",
      "    SVC(kernel=\"linear\", C=0.025),\n",
      "    SVC(gamma=2, C=1),\n",
      "    DecisionTreeClassifier(max_depth=5),\n",
      "    RandomForestClassifier(max_depth=5, n_estimators=10, max_features=1),\n",
      "    AdaBoostClassifier(),\n",
      "    GaussianNB(),\n",
      "    LDA(),\n",
      "    QDA()]"
     ],
     "language": "python",
     "metadata": {},
     "outputs": [],
     "prompt_number": 14
    },
    {
     "cell_type": "code",
     "collapsed": false,
     "input": [
      "print(__doc__)\n",
      "\n",
      "import numpy as np\n",
      "import matplotlib.pyplot as plt\n",
      "from sklearn import svm, datasets\n",
      "from sklearn.metrics import roc_curve, auc\n",
      "from sklearn.cross_validation import train_test_split\n",
      "from sklearn.preprocessing import label_binarize\n",
      "from sklearn.multiclass import OneVsRestClassifier\n",
      "\n",
      "# Import some data to play with\n",
      "iris = datasets.load_iris()\n",
      "X = iris.data\n",
      "y = iris.target\n",
      "\n",
      "# Binarize the output\n",
      "y = label_binarize(y, classes=[0, 1, 2])\n",
      "n_classes = y.shape[1]\n",
      "\n",
      "# Add noisy features to make the problem harder\n",
      "random_state = np.random.RandomState(0)\n",
      "n_samples, n_features = X.shape\n",
      "X = np.c_[X, random_state.randn(n_samples, 200 * n_features)]\n",
      "\n",
      "# shuffle and split training and test sets\n",
      "X_train, X_test, y_train, y_test = train_test_split(X, y, test_size=.5,\n",
      "                                                    random_state=0)\n",
      "\n",
      "# Learn to predict each class against the other\n",
      "classifier = OneVsRestClassifier(svm.SVC(kernel='linear', probability=True,\n",
      "                                 random_state=random_state))\n",
      "y_score = classifier.fit(X_train, y_train).decision_function(X_test)\n",
      "\n",
      "# Compute ROC curve and ROC area for each class\n",
      "fpr = dict()\n",
      "tpr = dict()\n",
      "roc_auc = dict()\n",
      "for i in range(n_classes):\n",
      "    fpr[i], tpr[i], _ = roc_curve(y_test[:, i], y_score[:, i])\n",
      "    roc_auc[i] = auc(fpr[i], tpr[i])\n",
      "\n",
      "# Compute micro-average ROC curve and ROC area\n",
      "fpr[\"micro\"], tpr[\"micro\"], _ = roc_curve(y_test.ravel(), y_score.ravel())\n",
      "roc_auc[\"micro\"] = auc(fpr[\"micro\"], tpr[\"micro\"])\n",
      "\n",
      "# Plot of a ROC curve for a specific class\n",
      "plt.figure()\n",
      "plt.plot(fpr[2], tpr[2], label='ROC curve (area = %0.2f)' % roc_auc[2])\n",
      "plt.plot([0, 1], [0, 1], 'k--')\n",
      "plt.xlim([0.0, 1.0])\n",
      "plt.ylim([0.0, 1.05])\n",
      "plt.xlabel('False Positive Rate')\n",
      "plt.ylabel('True Positive Rate')\n",
      "plt.title('Receiver operating characteristic example')\n",
      "plt.legend(loc=\"lower right\")\n",
      "plt.show()\n",
      "\n",
      "# Plot ROC curve\n",
      "plt.figure()\n",
      "plt.plot(fpr[\"micro\"], tpr[\"micro\"],\n",
      "         label='micro-average ROC curve (area = {0:0.2f})'\n",
      "               ''.format(roc_auc[\"micro\"]))\n",
      "for i in range(n_classes):\n",
      "    plt.plot(fpr[i], tpr[i], label='ROC curve of class {0} (area = {1:0.2f})'\n",
      "                                   ''.format(i, roc_auc[i]))\n",
      "\n",
      "plt.plot([0, 1], [0, 1], 'k--')\n",
      "plt.xlim([0.0, 1.0])\n",
      "plt.ylim([0.0, 1.05])\n",
      "plt.xlabel('False Positive Rate')\n",
      "plt.ylabel('True Positive Rate')\n",
      "plt.title('Some extension of Receiver operating characteristic to multi-class')\n",
      "plt.legend(loc=\"lower right\")\n",
      "plt.show()"
     ],
     "language": "python",
     "metadata": {},
     "outputs": [
      {
       "output_type": "stream",
       "stream": "stdout",
       "text": [
        "Automatically created module for IPython interactive environment\n"
       ]
      },
      {
       "metadata": {},
       "output_type": "display_data",
       "png": "[encoded data removed]",
       "text": [
        "<matplotlib.figure.Figure at 0x7f04314efe90>"
       ]
      },
      {
       "metadata": {},
       "output_type": "display_data",
       "png": "[encoded data removed]",
       "text": [
        "<matplotlib.figure.Figure at 0x7f04314db490>"
       ]
      }
     ],
     "prompt_number": 22
    },
    {
     "cell_type": "code",
     "collapsed": false,
     "input": [
      "print(__doc__)\n",
      "\n",
      "import numpy as np\n",
      "import matplotlib.pyplot as plt\n",
      "from sklearn import svm, datasets\n",
      "from sklearn.metrics import roc_curve, auc\n",
      "from sklearn.cross_validation import train_test_split\n",
      "from sklearn.preprocessing import label_binarize\n",
      "from sklearn.multiclass import OneVsRestClassifier\n"
     ],
     "language": "python",
     "metadata": {},
     "outputs": [
      {
       "output_type": "stream",
       "stream": "stdout",
       "text": [
        "Automatically created module for IPython interactive environment\n"
       ]
      }
     ],
     "prompt_number": 23
    },
    {
     "cell_type": "code",
     "collapsed": false,
     "input": [
      "iris = datasets.load_iris()\n",
      "X = iris.data\n",
      "y = iris.target"
     ],
     "language": "python",
     "metadata": {},
     "outputs": [],
     "prompt_number": 24
    },
    {
     "cell_type": "code",
     "collapsed": false,
     "input": [
      "print y"
     ],
     "language": "python",
     "metadata": {},
     "outputs": [
      {
       "output_type": "stream",
       "stream": "stdout",
       "text": [
        "[0 0 0 0 0 0 0 0 0 0 0 0 0 0 0 0 0 0 0 0 0 0 0 0 0 0 0 0 0 0 0 0 0 0 0 0 0\n",
        " 0 0 0 0 0 0 0 0 0 0 0 0 0 1 1 1 1 1 1 1 1 1 1 1 1 1 1 1 1 1 1 1 1 1 1 1 1\n",
        " 1 1 1 1 1 1 1 1 1 1 1 1 1 1 1 1 1 1 1 1 1 1 1 1 1 1 2 2 2 2 2 2 2 2 2 2 2\n",
        " 2 2 2 2 2 2 2 2 2 2 2 2 2 2 2 2 2 2 2 2 2 2 2 2 2 2 2 2 2 2 2 2 2 2 2 2 2\n",
        " 2 2]\n"
       ]
      }
     ],
     "prompt_number": 27
    },
    {
     "cell_type": "code",
     "collapsed": false,
     "input": [
      "y = label_binarize(y, classes=[0, 1, 2])\n",
      "n_classes = y.shape[1]"
     ],
     "language": "python",
     "metadata": {},
     "outputs": [],
     "prompt_number": 28
    },
    {
     "cell_type": "code",
     "collapsed": false,
     "input": [
      "n_classes"
     ],
     "language": "python",
     "metadata": {},
     "outputs": [
      {
       "metadata": {},
       "output_type": "pyout",
       "prompt_number": 29,
       "text": [
        "3"
       ]
      }
     ],
     "prompt_number": 29
    },
    {
     "cell_type": "code",
     "collapsed": false,
     "input": [
      "# Add noisy features to make the problem harder\n",
      "random_state = np.random.RandomState(0)\n",
      "n_samples, n_features = X.shape\n",
      "X = np.c_[X, random_state.randn(n_samples, 200 * n_features)]"
     ],
     "language": "python",
     "metadata": {},
     "outputs": [],
     "prompt_number": 30
    },
    {
     "cell_type": "code",
     "collapsed": false,
     "input": [
      "print X"
     ],
     "language": "python",
     "metadata": {},
     "outputs": [
      {
       "output_type": "stream",
       "stream": "stdout",
       "text": [
        "[[ 5.1         3.5         1.4        ..., -1.07709907 -0.4246633\n",
        "  -0.8299646 ]\n",
        " [ 4.9         3.          1.4        ...,  1.4121517  -1.38043075\n",
        "  -0.53591456]\n",
        " [ 4.7         3.2         1.3        ...,  0.65880214 -0.59691711\n",
        "  -0.22295918]\n",
        " ..., \n",
        " [ 6.5         3.          5.2        ..., -0.5154906  -0.12964864\n",
        "  -0.5092809 ]\n",
        " [ 6.2         3.4         5.4        ...,  1.42147798 -0.61336209\n",
        "  -0.34432031]\n",
        " [ 5.9         3.          5.1        ...,  2.53170549 -0.03572203\n",
        "   0.17320019]]\n"
       ]
      }
     ],
     "prompt_number": 31
    },
    {
     "cell_type": "code",
     "collapsed": false,
     "input": [
      "print y"
     ],
     "language": "python",
     "metadata": {},
     "outputs": [
      {
       "output_type": "stream",
       "stream": "stdout",
       "text": [
        "[[1 0 0]\n",
        " [1 0 0]\n",
        " [1 0 0]\n",
        " [1 0 0]\n",
        " [1 0 0]\n",
        " [1 0 0]\n",
        " [1 0 0]\n",
        " [1 0 0]\n",
        " [1 0 0]\n",
        " [1 0 0]\n",
        " [1 0 0]\n",
        " [1 0 0]\n",
        " [1 0 0]\n",
        " [1 0 0]\n",
        " [1 0 0]\n",
        " [1 0 0]\n",
        " [1 0 0]\n",
        " [1 0 0]\n",
        " [1 0 0]\n",
        " [1 0 0]\n",
        " [1 0 0]\n",
        " [1 0 0]\n",
        " [1 0 0]\n",
        " [1 0 0]\n",
        " [1 0 0]\n",
        " [1 0 0]\n",
        " [1 0 0]\n",
        " [1 0 0]\n",
        " [1 0 0]\n",
        " [1 0 0]\n",
        " [1 0 0]\n",
        " [1 0 0]\n",
        " [1 0 0]\n",
        " [1 0 0]\n",
        " [1 0 0]\n",
        " [1 0 0]\n",
        " [1 0 0]\n",
        " [1 0 0]\n",
        " [1 0 0]\n",
        " [1 0 0]\n",
        " [1 0 0]\n",
        " [1 0 0]\n",
        " [1 0 0]\n",
        " [1 0 0]\n",
        " [1 0 0]\n",
        " [1 0 0]\n",
        " [1 0 0]\n",
        " [1 0 0]\n",
        " [1 0 0]\n",
        " [1 0 0]\n",
        " [0 1 0]\n",
        " [0 1 0]\n",
        " [0 1 0]\n",
        " [0 1 0]\n",
        " [0 1 0]\n",
        " [0 1 0]\n",
        " [0 1 0]\n",
        " [0 1 0]\n",
        " [0 1 0]\n",
        " [0 1 0]\n",
        " [0 1 0]\n",
        " [0 1 0]\n",
        " [0 1 0]\n",
        " [0 1 0]\n",
        " [0 1 0]\n",
        " [0 1 0]\n",
        " [0 1 0]\n",
        " [0 1 0]\n",
        " [0 1 0]\n",
        " [0 1 0]\n",
        " [0 1 0]\n",
        " [0 1 0]\n",
        " [0 1 0]\n",
        " [0 1 0]\n",
        " [0 1 0]\n",
        " [0 1 0]\n",
        " [0 1 0]\n",
        " [0 1 0]\n",
        " [0 1 0]\n",
        " [0 1 0]\n",
        " [0 1 0]\n",
        " [0 1 0]\n",
        " [0 1 0]\n",
        " [0 1 0]\n",
        " [0 1 0]\n",
        " [0 1 0]\n",
        " [0 1 0]\n",
        " [0 1 0]\n",
        " [0 1 0]\n",
        " [0 1 0]\n",
        " [0 1 0]\n",
        " [0 1 0]\n",
        " [0 1 0]\n",
        " [0 1 0]\n",
        " [0 1 0]\n",
        " [0 1 0]\n",
        " [0 1 0]\n",
        " [0 1 0]\n",
        " [0 1 0]\n",
        " [0 1 0]\n",
        " [0 0 1]\n",
        " [0 0 1]\n",
        " [0 0 1]\n",
        " [0 0 1]\n",
        " [0 0 1]\n",
        " [0 0 1]\n",
        " [0 0 1]\n",
        " [0 0 1]\n",
        " [0 0 1]\n",
        " [0 0 1]\n",
        " [0 0 1]\n",
        " [0 0 1]\n",
        " [0 0 1]\n",
        " [0 0 1]\n",
        " [0 0 1]\n",
        " [0 0 1]\n",
        " [0 0 1]\n",
        " [0 0 1]\n",
        " [0 0 1]\n",
        " [0 0 1]\n",
        " [0 0 1]\n",
        " [0 0 1]\n",
        " [0 0 1]\n",
        " [0 0 1]\n",
        " [0 0 1]\n",
        " [0 0 1]\n",
        " [0 0 1]\n",
        " [0 0 1]\n",
        " [0 0 1]\n",
        " [0 0 1]\n",
        " [0 0 1]\n",
        " [0 0 1]\n",
        " [0 0 1]\n",
        " [0 0 1]\n",
        " [0 0 1]\n",
        " [0 0 1]\n",
        " [0 0 1]\n",
        " [0 0 1]\n",
        " [0 0 1]\n",
        " [0 0 1]\n",
        " [0 0 1]\n",
        " [0 0 1]\n",
        " [0 0 1]\n",
        " [0 0 1]\n",
        " [0 0 1]\n",
        " [0 0 1]\n",
        " [0 0 1]\n",
        " [0 0 1]\n",
        " [0 0 1]\n",
        " [0 0 1]]\n"
       ]
      }
     ],
     "prompt_number": 32
    },
    {
     "cell_type": "code",
     "collapsed": false,
     "input": [
      "X_train, X_test, y_train, y_test = train_test_split(X, y, test_size=.5,\n",
      "                                                    random_state=0)"
     ],
     "language": "python",
     "metadata": {},
     "outputs": [],
     "prompt_number": 33
    },
    {
     "cell_type": "code",
     "collapsed": false,
     "input": [
      "X_train"
     ],
     "language": "python",
     "metadata": {},
     "outputs": [
      {
       "metadata": {},
       "output_type": "pyout",
       "prompt_number": 34,
       "text": [
        "array([[ 4.6       ,  3.1       ,  1.5       , ..., -0.08332629,\n",
        "         0.13105445, -0.87909601],\n",
        "       [ 5.9       ,  3.        ,  5.1       , ...,  2.53170549,\n",
        "        -0.03572203,  0.17320019],\n",
        "       [ 5.1       ,  2.5       ,  3.        , ...,  0.06532704,\n",
        "        -0.55380986, -0.88254487],\n",
        "       ..., \n",
        "       [ 5.8       ,  2.7       ,  4.1       , ...,  1.64406345,\n",
        "        -1.88552839,  0.68372542],\n",
        "       [ 7.7       ,  3.8       ,  6.7       , ..., -0.61588685,\n",
        "         0.68366386,  1.25407419],\n",
        "       [ 4.6       ,  3.2       ,  1.4       , ..., -0.33971352,\n",
        "         0.65169567,  0.80559882]])"
       ]
      }
     ],
     "prompt_number": 34
    },
    {
     "cell_type": "code",
     "collapsed": false,
     "input": [
      "classifier = OneVsRestClassifier(svm.SVC(kernel='linear', probability=True,\n",
      "                                 random_state=random_state))\n",
      "y_score = classifier.fit(X_train, y_train).decision_function(X_test)"
     ],
     "language": "python",
     "metadata": {},
     "outputs": [],
     "prompt_number": 35
    },
    {
     "cell_type": "code",
     "collapsed": false,
     "input": [
      "classifier"
     ],
     "language": "python",
     "metadata": {},
     "outputs": [
      {
       "metadata": {},
       "output_type": "pyout",
       "prompt_number": 36,
       "text": [
        "OneVsRestClassifier(estimator=SVC(C=1.0, cache_size=200, class_weight=None, coef0=0.0, degree=3, gamma=0.0,\n",
        "  kernel='linear', max_iter=-1, probability=True,\n",
        "  random_state=<mtrand.RandomState object at 0x7f0439285810>,\n",
        "  shrinking=True, tol=0.001, verbose=False),\n",
        "          n_jobs=1)"
       ]
      }
     ],
     "prompt_number": 36
    },
    {
     "cell_type": "code",
     "collapsed": false,
     "input": [
      "fpr = dict()\n",
      "tpr = dict()\n",
      "roc_auc = dict()\n",
      "for i in range(n_classes):\n",
      "    fpr[i], tpr[i], _ = roc_curve(y_test[:, i], y_score[:, i])\n",
      "    roc_auc[i] = auc(fpr[i], tpr[i])"
     ],
     "language": "python",
     "metadata": {},
     "outputs": [],
     "prompt_number": 37
    },
    {
     "cell_type": "code",
     "collapsed": false,
     "input": [
      "fpr"
     ],
     "language": "python",
     "metadata": {},
     "outputs": [
      {
       "metadata": {},
       "output_type": "pyout",
       "prompt_number": 38,
       "text": [
        "{0: array([ 0.        ,  0.        ,  0.        ,  0.01851852,  0.01851852,\n",
        "         0.03703704,  0.03703704,  0.03703704,  0.05555556,  0.05555556,\n",
        "         0.05555556,  0.07407407,  0.07407407,  0.07407407,  0.07407407,\n",
        "         0.07407407,  0.07407407,  0.09259259,  0.09259259,  0.11111111,\n",
        "         0.12962963,  0.12962963,  0.12962963,  0.14814815,  0.14814815,\n",
        "         0.14814815,  0.14814815,  0.16666667,  0.18518519,  0.2037037 ,\n",
        "         0.2037037 ,  0.22222222,  0.24074074,  0.25925926,  0.27777778,\n",
        "         0.27777778,  0.2962963 ,  0.31481481,  0.33333333,  0.35185185,\n",
        "         0.37037037,  0.38888889,  0.40740741,  0.42592593,  0.44444444,\n",
        "         0.46296296,  0.48148148,  0.5       ,  0.51851852,  0.53703704,\n",
        "         0.55555556,  0.57407407,  0.59259259,  0.61111111,  0.62962963,\n",
        "         0.64814815,  0.66666667,  0.68518519,  0.7037037 ,  0.72222222,\n",
        "         0.74074074,  0.75925926,  0.77777778,  0.7962963 ,  0.81481481,\n",
        "         0.83333333,  0.85185185,  0.87037037,  0.88888889,  0.90740741,\n",
        "         0.92592593,  0.94444444,  0.96296296,  0.98148148,  1.        ]),\n",
        " 1: array([ 0.        ,  0.        ,  0.        ,  0.        ,  0.02222222,\n",
        "         0.02222222,  0.04444444,  0.06666667,  0.08888889,  0.11111111,\n",
        "         0.11111111,  0.13333333,  0.15555556,  0.17777778,  0.17777778,\n",
        "         0.17777778,  0.2       ,  0.2       ,  0.2       ,  0.22222222,\n",
        "         0.24444444,  0.24444444,  0.24444444,  0.26666667,  0.26666667,\n",
        "         0.28888889,  0.31111111,  0.33333333,  0.35555556,  0.37777778,\n",
        "         0.37777778,  0.37777778,  0.4       ,  0.42222222,  0.42222222,\n",
        "         0.42222222,  0.44444444,  0.46666667,  0.48888889,  0.48888889,\n",
        "         0.51111111,  0.53333333,  0.55555556,  0.57777778,  0.57777778,\n",
        "         0.6       ,  0.62222222,  0.62222222,  0.62222222,  0.64444444,\n",
        "         0.64444444,  0.66666667,  0.66666667,  0.66666667,  0.66666667,\n",
        "         0.66666667,  0.66666667,  0.68888889,  0.71111111,  0.73333333,\n",
        "         0.73333333,  0.75555556,  0.75555556,  0.77777778,  0.8       ,\n",
        "         0.82222222,  0.84444444,  0.86666667,  0.88888889,  0.88888889,\n",
        "         0.91111111,  0.93333333,  0.95555556,  0.97777778,  1.        ]),\n",
        " 2: array([ 0.        ,  0.        ,  0.        ,  0.01960784,  0.01960784,\n",
        "         0.01960784,  0.01960784,  0.03921569,  0.05882353,  0.07843137,\n",
        "         0.07843137,  0.09803922,  0.09803922,  0.11764706,  0.11764706,\n",
        "         0.11764706,  0.1372549 ,  0.1372549 ,  0.1372549 ,  0.15686275,\n",
        "         0.15686275,  0.17647059,  0.17647059,  0.19607843,  0.21568627,\n",
        "         0.23529412,  0.25490196,  0.2745098 ,  0.29411765,  0.31372549,\n",
        "         0.31372549,  0.31372549,  0.33333333,  0.33333333,  0.33333333,\n",
        "         0.35294118,  0.35294118,  0.37254902,  0.39215686,  0.41176471,\n",
        "         0.41176471,  0.43137255,  0.45098039,  0.45098039,  0.47058824,\n",
        "         0.47058824,  0.49019608,  0.50980392,  0.50980392,  0.52941176,\n",
        "         0.54901961,  0.56862745,  0.56862745,  0.58823529,  0.60784314,\n",
        "         0.62745098,  0.64705882,  0.66666667,  0.68627451,  0.70588235,\n",
        "         0.7254902 ,  0.74509804,  0.76470588,  0.78431373,  0.80392157,\n",
        "         0.82352941,  0.84313725,  0.8627451 ,  0.88235294,  0.90196078,\n",
        "         0.92156863,  0.94117647,  0.96078431,  0.98039216,  1.        ])}"
       ]
      }
     ],
     "prompt_number": 38
    },
    {
     "cell_type": "code",
     "collapsed": false,
     "input": [
      "fpr[\"micro\"], tpr[\"micro\"], _ = roc_curve(y_test.ravel(), y_score.ravel())\n",
      "roc_auc[\"micro\"] = auc(fpr[\"micro\"], tpr[\"micro\"])"
     ],
     "language": "python",
     "metadata": {},
     "outputs": [],
     "prompt_number": 39
    },
    {
     "cell_type": "code",
     "collapsed": false,
     "input": [
      "plt.figure()"
     ],
     "language": "python",
     "metadata": {},
     "outputs": [
      {
       "metadata": {},
       "output_type": "pyout",
       "prompt_number": 40,
       "text": [
        "<matplotlib.figure.Figure at 0x7f0439285150>"
       ]
      },
      {
       "metadata": {},
       "output_type": "display_data",
       "text": [
        "<matplotlib.figure.Figure at 0x7f0439285150>"
       ]
      }
     ],
     "prompt_number": 40
    },
    {
     "cell_type": "code",
     "collapsed": false,
     "input": [
      "plt.plot(fpr[2], tpr[2], label='ROC curve (area = %0.2f)' % roc_auc[2])"
     ],
     "language": "python",
     "metadata": {},
     "outputs": [
      {
       "metadata": {},
       "output_type": "pyout",
       "prompt_number": 41,
       "text": [
        "[<matplotlib.lines.Line2D at 0x7f04390792d0>]"
       ]
      },
      {
       "metadata": {},
       "output_type": "display_data",
       "png": "[encoded data removed]",
       "text": [
        "<matplotlib.figure.Figure at 0x7f0439285050>"
       ]
      }
     ],
     "prompt_number": 41
    },
    {
     "cell_type": "code",
     "collapsed": false,
     "input": [],
     "language": "python",
     "metadata": {},
     "outputs": []
    }
   ],
   "metadata": {}
  }
 ]
}