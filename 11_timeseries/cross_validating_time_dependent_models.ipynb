{
 "metadata": {
  "name": "",
  "signature": "sha256:dd72e730bf9f8887fe2ba3f23fb66e8e766eebf934736c3f72b1850606a37037"
 },
 "nbformat": 3,
 "nbformat_minor": 0,
 "worksheets": [
  {
   "cells": [
    {
     "cell_type": "code",
     "collapsed": false,
     "input": [
      "from IPython.display import Image\n",
      "Image(url=\"http://www.sqlserverdatamining.com/ssdm/Portals/1/DataMining/MasterCardPrediction.jpg\")"
     ],
     "language": "python",
     "metadata": {},
     "outputs": [
      {
       "html": [
        "<img src=\"http://www.sqlserverdatamining.com/ssdm/Portals/1/DataMining/MasterCardPrediction.jpg\"/>"
       ],
       "metadata": {},
       "output_type": "pyout",
       "prompt_number": 193,
       "text": [
        "<IPython.core.display.Image at 0x50db550>"
       ]
      }
     ],
     "prompt_number": 193
    },
    {
     "cell_type": "code",
     "collapsed": false,
     "input": [
      "import numpy as np\n",
      "import pandas as pd\n",
      "\n",
      "df = pd.read_csv('/home/vagrant/notebooks/fall_2014_lessons/11_timeseries/SuperHappyFunDataSet.csv')"
     ],
     "language": "python",
     "metadata": {},
     "outputs": [],
     "prompt_number": 194
    },
    {
     "cell_type": "code",
     "collapsed": false,
     "input": [
      "ust = df[['US10Y_yield','US10Y_date']].dropna()\n",
      "ust['date'] = pd.to_datetime(ust['US10Y_date'])\n",
      "ust.head()"
     ],
     "language": "python",
     "metadata": {},
     "outputs": [
      {
       "html": [
        "<div style=\"max-height:1000px;max-width:1500px;overflow:auto;\">\n",
        "<table border=\"1\" class=\"dataframe\">\n",
        "  <thead>\n",
        "    <tr style=\"text-align: right;\">\n",
        "      <th></th>\n",
        "      <th>US10Y_yield</th>\n",
        "      <th>US10Y_date</th>\n",
        "      <th>date</th>\n",
        "    </tr>\n",
        "  </thead>\n",
        "  <tbody>\n",
        "    <tr>\n",
        "      <th>0</th>\n",
        "      <td> 3.8175</td>\n",
        "      <td> 1/1/2003</td>\n",
        "      <td>2003-01-01 00:00:00</td>\n",
        "    </tr>\n",
        "    <tr>\n",
        "      <th>1</th>\n",
        "      <td> 4.0305</td>\n",
        "      <td> 1/2/2003</td>\n",
        "      <td>2003-01-02 00:00:00</td>\n",
        "    </tr>\n",
        "    <tr>\n",
        "      <th>2</th>\n",
        "      <td> 4.0169</td>\n",
        "      <td> 1/3/2003</td>\n",
        "      <td>2003-01-03 00:00:00</td>\n",
        "    </tr>\n",
        "    <tr>\n",
        "      <th>3</th>\n",
        "      <td> 4.0518</td>\n",
        "      <td> 1/6/2003</td>\n",
        "      <td>2003-01-06 00:00:00</td>\n",
        "    </tr>\n",
        "    <tr>\n",
        "      <th>4</th>\n",
        "      <td> 4.0053</td>\n",
        "      <td> 1/7/2003</td>\n",
        "      <td>2003-01-07 00:00:00</td>\n",
        "    </tr>\n",
        "  </tbody>\n",
        "</table>\n",
        "</div>"
       ],
       "metadata": {},
       "output_type": "pyout",
       "prompt_number": 195,
       "text": [
        "   US10Y_yield US10Y_date                date\n",
        "0       3.8175   1/1/2003 2003-01-01 00:00:00\n",
        "1       4.0305   1/2/2003 2003-01-02 00:00:00\n",
        "2       4.0169   1/3/2003 2003-01-03 00:00:00\n",
        "3       4.0518   1/6/2003 2003-01-06 00:00:00\n",
        "4       4.0053   1/7/2003 2003-01-07 00:00:00"
       ]
      }
     ],
     "prompt_number": 195
    },
    {
     "cell_type": "code",
     "collapsed": false,
     "input": [
      "ust.set_index('date', inplace=True)\n",
      "ust.head()\n",
      "ust=ust.drop('US10Y_date', axis=1)\n",
      "ust.head()\n"
     ],
     "language": "python",
     "metadata": {},
     "outputs": [
      {
       "html": [
        "<div style=\"max-height:1000px;max-width:1500px;overflow:auto;\">\n",
        "<table border=\"1\" class=\"dataframe\">\n",
        "  <thead>\n",
        "    <tr style=\"text-align: right;\">\n",
        "      <th></th>\n",
        "      <th>US10Y_yield</th>\n",
        "    </tr>\n",
        "    <tr>\n",
        "      <th>date</th>\n",
        "      <th></th>\n",
        "    </tr>\n",
        "  </thead>\n",
        "  <tbody>\n",
        "    <tr>\n",
        "      <th>2003-01-01</th>\n",
        "      <td> 3.8175</td>\n",
        "    </tr>\n",
        "    <tr>\n",
        "      <th>2003-01-02</th>\n",
        "      <td> 4.0305</td>\n",
        "    </tr>\n",
        "    <tr>\n",
        "      <th>2003-01-03</th>\n",
        "      <td> 4.0169</td>\n",
        "    </tr>\n",
        "    <tr>\n",
        "      <th>2003-01-06</th>\n",
        "      <td> 4.0518</td>\n",
        "    </tr>\n",
        "    <tr>\n",
        "      <th>2003-01-07</th>\n",
        "      <td> 4.0053</td>\n",
        "    </tr>\n",
        "  </tbody>\n",
        "</table>\n",
        "</div>"
       ],
       "metadata": {},
       "output_type": "pyout",
       "prompt_number": 196,
       "text": [
        "            US10Y_yield\n",
        "date                   \n",
        "2003-01-01       3.8175\n",
        "2003-01-02       4.0305\n",
        "2003-01-03       4.0169\n",
        "2003-01-06       4.0518\n",
        "2003-01-07       4.0053"
       ]
      }
     ],
     "prompt_number": 196
    },
    {
     "cell_type": "code",
     "collapsed": false,
     "input": [
      "from random import choice\n",
      "from sklearn.linear_model import LinearRegression\n",
      "from sklearn.metrics import mean_squared_error\n",
      "\n",
      "train_length = 100\n",
      "test_length = 1\n",
      "min_dist = 10\n",
      "model = LinearRegression()\n",
      "\n",
      "Y = ust['US10Y_yield']\n",
      "\n",
      "results = {}\n",
      "for k in range(1,10):\n",
      "    modelsize = k\n",
      "    errors = []\n",
      "    for i in range(5):\n",
      "        train_begin = choice(range(10,len(ust.index)-(train_length+test_length+min_dist)))\n",
      "        test_begin = choice(range(train_begin+min_dist,len(ust.index)-test_length))\n",
      "        train = ust.index[train_begin:train_begin+train_length]\n",
      "        test = ust.index[test_begin:test_begin+test_length]\n",
      "\n",
      "        y_train = Y.ix[train]\n",
      "        X = pd.concat([Y.shift(i) for i in range(1,k+1)], axis=1)\n",
      "        x_train = X.ix[train]\n",
      "        model.fit(x_train,y_train)\n",
      "        y_test = Y.ix[test]\n",
      "        x_test = X.ix[test]\n",
      "        y_hat = model.predict(x_test)\n",
      "        percent_error = (y_hat[0]/y_test.ix[0]-1)\n",
      "        print percent_error\n",
      "        errors.append(percent_error)\n",
      "    results[modelsize]=sum(errors)/5\n",
      "        \n",
      "        \n",
      "    \n",
      "\n",
      "    \n",
      "    "
     ],
     "language": "python",
     "metadata": {},
     "outputs": [
      {
       "output_type": "stream",
       "stream": "stdout",
       "text": [
        "0.0632651105737\n",
        "-0.0157739239651\n",
        "0.0383884086814\n",
        "0.024448853006\n",
        "-0.0256910410463\n",
        "0.130993821262\n",
        "0.0125987849359\n",
        "0.0309309706037\n",
        "0.0345766762258\n",
        "-0.0185411324145\n",
        "0.00391355614476\n",
        "-0.0290814288747"
       ]
      },
      {
       "output_type": "stream",
       "stream": "stdout",
       "text": [
        "\n",
        "0.00384595308373\n",
        "-0.0140425989026\n",
        "-0.00132088862329\n",
        "0.0510537410155\n",
        "-0.00535025307844\n",
        "0.0564910057427\n",
        "0.0223443668713\n",
        "-0.0294072262761\n",
        "-0.000709351537115\n",
        "0.0605224241161\n",
        "-0.0148563087898"
       ]
      },
      {
       "output_type": "stream",
       "stream": "stdout",
       "text": [
        "\n",
        "0.0165457379647\n",
        "0.00480251205505\n",
        "0.0313807229863\n",
        "0.0331823758612\n",
        "-0.0343613179504\n",
        "0.0182354689573\n",
        "0.016203464531\n",
        "0.0565378171087\n",
        "0.000328732429365\n",
        "0.0457914789766\n",
        "0.050129153828"
       ]
      },
      {
       "output_type": "stream",
       "stream": "stdout",
       "text": [
        "\n",
        "0.00122054044662\n",
        "0.194091749134\n",
        "0.0284782865767\n",
        "0.0322421048946\n",
        "-0.00687492138438\n",
        "0.0532537568845\n",
        "-0.0396901592686\n",
        "-0.0136631067034\n",
        "0.0318791847581\n",
        "-0.0667543634689\n",
        "-0.00143902490184"
       ]
      },
      {
       "output_type": "stream",
       "stream": "stdout",
       "text": [
        "\n"
       ]
      }
     ],
     "prompt_number": 211
    },
    {
     "cell_type": "code",
     "collapsed": false,
     "input": [
      "results"
     ],
     "language": "python",
     "metadata": {},
     "outputs": [
      {
       "metadata": {},
       "output_type": "pyout",
       "prompt_number": 210,
       "text": [
        "{1: 0.024312177974341952,\n",
        " 2: 0.00010809681547381267,\n",
        " 3: 0.011762149647107001,\n",
        " 4: 0.037171823108159655,\n",
        " 5: -0.0012340935521807372,\n",
        " 6: 0.0025446854736354664,\n",
        " 7: 0.0064478260729769147,\n",
        " 8: 0.005021834286411897,\n",
        " 9: 0.012010418332587669}"
       ]
      }
     ],
     "prompt_number": 210
    },
    {
     "cell_type": "code",
     "collapsed": false,
     "input": [],
     "language": "python",
     "metadata": {},
     "outputs": []
    }
   ],
   "metadata": {}
  }
 ]
}